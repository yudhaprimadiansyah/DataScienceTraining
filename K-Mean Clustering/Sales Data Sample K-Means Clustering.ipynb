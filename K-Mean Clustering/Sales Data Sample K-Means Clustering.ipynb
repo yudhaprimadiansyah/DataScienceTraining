{
 "cells": [
  {
   "cell_type": "code",
   "execution_count": 23,
   "metadata": {},
   "outputs": [],
   "source": [
    "import pandas as pd\n",
    "from sklearn.cluster import KMeans\n",
    "from sklearn.model_selection import GridSearchCV"
   ]
  },
  {
   "cell_type": "code",
   "execution_count": 24,
   "metadata": {},
   "outputs": [],
   "source": [
    "data = pd.read_csv(\"sales_data_sample.csv\", encoding=\"latin1\")"
   ]
  },
  {
   "cell_type": "code",
   "execution_count": 25,
   "metadata": {},
   "outputs": [
    {
     "name": "stdout",
     "output_type": "stream",
     "text": [
      "   ORDERNUMBER  QUANTITYORDERED  PRICEEACH  ORDERLINENUMBER    SALES  \\\n",
      "0        10107               30      95.70                2  2871.00   \n",
      "1        10121               34      81.35                5  2765.90   \n",
      "2        10134               41      94.74                2  3884.34   \n",
      "3        10145               45      83.26                6  3746.70   \n",
      "4        10159               49     100.00               14  5205.27   \n",
      "5        10168               36      96.66                1  3479.76   \n",
      "6        10180               29      86.13                9  2497.77   \n",
      "7        10188               48     100.00                1  5512.32   \n",
      "8        10201               22      98.57                2  2168.54   \n",
      "9        10211               41     100.00               14  4708.44   \n",
      "\n",
      "         ORDERDATE   STATUS  QTR_ID  MONTH_ID  YEAR_ID  ...  \\\n",
      "0   2/24/2003 0:00  Shipped       1         2     2003  ...   \n",
      "1    5/7/2003 0:00  Shipped       2         5     2003  ...   \n",
      "2    7/1/2003 0:00  Shipped       3         7     2003  ...   \n",
      "3   8/25/2003 0:00  Shipped       3         8     2003  ...   \n",
      "4  10/10/2003 0:00  Shipped       4        10     2003  ...   \n",
      "5  10/28/2003 0:00  Shipped       4        10     2003  ...   \n",
      "6  11/11/2003 0:00  Shipped       4        11     2003  ...   \n",
      "7  11/18/2003 0:00  Shipped       4        11     2003  ...   \n",
      "8   12/1/2003 0:00  Shipped       4        12     2003  ...   \n",
      "9   1/15/2004 0:00  Shipped       1         1     2004  ...   \n",
      "\n",
      "                    ADDRESSLINE1  ADDRESSLINE2           CITY STATE  \\\n",
      "0        897 Long Airport Avenue           NaN            NYC    NY   \n",
      "1             59 rue de l'Abbaye           NaN          Reims   NaN   \n",
      "2  27 rue du Colonel Pierre Avia           NaN          Paris   NaN   \n",
      "3             78934 Hillside Dr.           NaN       Pasadena    CA   \n",
      "4                7734 Strong St.           NaN  San Francisco    CA   \n",
      "5              9408 Furth Circle           NaN     Burlingame    CA   \n",
      "6        184, chausse de Tournai           NaN          Lille   NaN   \n",
      "7    Drammen 121, PR 744 Sentrum           NaN         Bergen   NaN   \n",
      "8      5557 North Pendale Street           NaN  San Francisco    CA   \n",
      "9              25, rue Lauriston           NaN          Paris   NaN   \n",
      "\n",
      "  POSTALCODE COUNTRY TERRITORY CONTACTLASTNAME CONTACTFIRSTNAME DEALSIZE  \n",
      "0      10022     USA       NaN              Yu             Kwai    Small  \n",
      "1      51100  France      EMEA         Henriot             Paul    Small  \n",
      "2      75508  France      EMEA        Da Cunha           Daniel   Medium  \n",
      "3      90003     USA       NaN           Young            Julie   Medium  \n",
      "4        NaN     USA       NaN           Brown            Julie   Medium  \n",
      "5      94217     USA       NaN          Hirano             Juri   Medium  \n",
      "6      59000  France      EMEA           Rance          Martine    Small  \n",
      "7     N 5804  Norway      EMEA          Oeztan           Veysel   Medium  \n",
      "8        NaN     USA       NaN          Murphy            Julie    Small  \n",
      "9      75016  France      EMEA         Perrier        Dominique   Medium  \n",
      "\n",
      "[10 rows x 25 columns]\n"
     ]
    }
   ],
   "source": [
    "print(data.head(10))"
   ]
  },
  {
   "cell_type": "code",
   "execution_count": 26,
   "metadata": {},
   "outputs": [
    {
     "data": {
      "text/plain": [
       "2823"
      ]
     },
     "execution_count": 26,
     "metadata": {},
     "output_type": "execute_result"
    }
   ],
   "source": [
    "len(data.index)"
   ]
  },
  {
   "cell_type": "code",
   "execution_count": 27,
   "metadata": {},
   "outputs": [
    {
     "name": "stdout",
     "output_type": "stream",
     "text": [
      "ORDERNUMBER          307\n",
      "QUANTITYORDERED       58\n",
      "PRICEEACH           1016\n",
      "ORDERLINENUMBER       18\n",
      "SALES               2763\n",
      "ORDERDATE            252\n",
      "STATUS                 6\n",
      "QTR_ID                 4\n",
      "MONTH_ID              12\n",
      "YEAR_ID                3\n",
      "PRODUCTLINE            7\n",
      "MSRP                  80\n",
      "PRODUCTCODE          109\n",
      "CUSTOMERNAME          92\n",
      "PHONE                 91\n",
      "ADDRESSLINE1          92\n",
      "ADDRESSLINE2           9\n",
      "CITY                  73\n",
      "STATE                 16\n",
      "POSTALCODE            73\n",
      "COUNTRY               19\n",
      "TERRITORY              3\n",
      "CONTACTLASTNAME       77\n",
      "CONTACTFIRSTNAME      72\n",
      "DEALSIZE               3\n",
      "dtype: int64\n"
     ]
    }
   ],
   "source": [
    "print(data.nunique())"
   ]
  },
  {
   "cell_type": "code",
   "execution_count": 28,
   "metadata": {},
   "outputs": [
    {
     "name": "stdout",
     "output_type": "stream",
     "text": [
      "ORDERNUMBER            0\n",
      "QUANTITYORDERED        0\n",
      "PRICEEACH              0\n",
      "ORDERLINENUMBER        0\n",
      "SALES                  0\n",
      "ORDERDATE              0\n",
      "STATUS                 0\n",
      "QTR_ID                 0\n",
      "MONTH_ID               0\n",
      "YEAR_ID                0\n",
      "PRODUCTLINE            0\n",
      "MSRP                   0\n",
      "PRODUCTCODE            0\n",
      "CUSTOMERNAME           0\n",
      "PHONE                  0\n",
      "ADDRESSLINE1           0\n",
      "ADDRESSLINE2        2521\n",
      "CITY                   0\n",
      "STATE               1486\n",
      "POSTALCODE            76\n",
      "COUNTRY                0\n",
      "TERRITORY           1074\n",
      "CONTACTLASTNAME        0\n",
      "CONTACTFIRSTNAME       0\n",
      "DEALSIZE               0\n",
      "dtype: int64\n"
     ]
    }
   ],
   "source": [
    "print(data.isnull().sum())"
   ]
  },
  {
   "cell_type": "code",
   "execution_count": 29,
   "metadata": {},
   "outputs": [
    {
     "name": "stdout",
     "output_type": "stream",
     "text": [
      "EMEA     1407\n",
      "APAC      221\n",
      "Japan     121\n",
      "Name: TERRITORY, dtype: int64\n"
     ]
    }
   ],
   "source": [
    "print(data[\"TERRITORY\"].value_counts())"
   ]
  },
  {
   "cell_type": "code",
   "execution_count": 30,
   "metadata": {},
   "outputs": [
    {
     "data": {
      "text/plain": [
       "0       EMEA\n",
       "1       EMEA\n",
       "2       EMEA\n",
       "3       EMEA\n",
       "4       EMEA\n",
       "        ... \n",
       "2818    EMEA\n",
       "2819    EMEA\n",
       "2820    EMEA\n",
       "2821    EMEA\n",
       "2822    EMEA\n",
       "Name: TERRITORY, Length: 2823, dtype: object"
      ]
     },
     "execution_count": 30,
     "metadata": {},
     "output_type": "execute_result"
    }
   ],
   "source": [
    "data.TERRITORY.fillna(\"EMEA\")"
   ]
  },
  {
   "cell_type": "code",
   "execution_count": 31,
   "metadata": {},
   "outputs": [
    {
     "name": "stdout",
     "output_type": "stream",
     "text": [
      "ORDERNUMBER            0\n",
      "QUANTITYORDERED        0\n",
      "PRICEEACH              0\n",
      "ORDERLINENUMBER        0\n",
      "SALES                  0\n",
      "ORDERDATE              0\n",
      "STATUS                 0\n",
      "QTR_ID                 0\n",
      "MONTH_ID               0\n",
      "YEAR_ID                0\n",
      "PRODUCTLINE            0\n",
      "MSRP                   0\n",
      "PRODUCTCODE            0\n",
      "CUSTOMERNAME           0\n",
      "PHONE                  0\n",
      "ADDRESSLINE1           0\n",
      "ADDRESSLINE2        2521\n",
      "CITY                   0\n",
      "STATE               1486\n",
      "POSTALCODE            76\n",
      "COUNTRY                0\n",
      "TERRITORY           1074\n",
      "CONTACTLASTNAME        0\n",
      "CONTACTFIRSTNAME       0\n",
      "DEALSIZE               0\n",
      "dtype: int64\n"
     ]
    }
   ],
   "source": [
    "print(data.isnull().sum())"
   ]
  },
  {
   "cell_type": "code",
   "execution_count": 32,
   "metadata": {},
   "outputs": [
    {
     "name": "stdout",
     "output_type": "stream",
     "text": [
      "EMEA     1407\n",
      "APAC      221\n",
      "Japan     121\n",
      "Name: TERRITORY, dtype: int64\n"
     ]
    }
   ],
   "source": [
    "print(data.TERRITORY.value_counts())"
   ]
  },
  {
   "cell_type": "code",
   "execution_count": 33,
   "metadata": {},
   "outputs": [
    {
     "name": "stdout",
     "output_type": "stream",
     "text": [
      "      ORDERNUMBER  QUANTITYORDERED  PRICEEACH  ORDERLINENUMBER\n",
      "0           10107               30      95.70                2\n",
      "1           10121               34      81.35                5\n",
      "2           10134               41      94.74                2\n",
      "3           10145               45      83.26                6\n",
      "4           10159               49     100.00               14\n",
      "...           ...              ...        ...              ...\n",
      "2818        10350               20     100.00               15\n",
      "2819        10373               29     100.00                1\n",
      "2820        10386               43     100.00                4\n",
      "2821        10397               34      62.24                1\n",
      "2822        10414               47      65.52                9\n",
      "\n",
      "[2823 rows x 4 columns]\n"
     ]
    }
   ],
   "source": [
    "print(data.iloc[:,range(0,4)])"
   ]
  },
  {
   "cell_type": "code",
   "execution_count": 34,
   "metadata": {},
   "outputs": [],
   "source": [
    "features = data.iloc[:,range(0,4)]"
   ]
  },
  {
   "cell_type": "code",
   "execution_count": 37,
   "metadata": {},
   "outputs": [
    {
     "data": {
      "text/plain": [
       "KMeans(algorithm='auto', copy_x=True, init='k-means++', max_iter=300,\n",
       "       n_clusters=5, n_init=10, n_jobs=None, precompute_distances='auto',\n",
       "       random_state=None, tol=0.0001, verbose=0)"
      ]
     },
     "execution_count": 37,
     "metadata": {},
     "output_type": "execute_result"
    }
   ],
   "source": [
    "cluster = KMeans(n_clusters=5)\n",
    "cluster.fit(features)"
   ]
  },
  {
   "cell_type": "code",
   "execution_count": 39,
   "metadata": {},
   "outputs": [
    {
     "name": "stdout",
     "output_type": "stream",
     "text": [
      "[0 0 0 ... 1 1 1]\n"
     ]
    }
   ],
   "source": [
    "print(cluster.predict(features))"
   ]
  },
  {
   "cell_type": "code",
   "execution_count": null,
   "metadata": {},
   "outputs": [],
   "source": []
  }
 ],
 "metadata": {
  "kernelspec": {
   "display_name": "Python 3",
   "language": "python",
   "name": "python3"
  },
  "language_info": {
   "codemirror_mode": {
    "name": "ipython",
    "version": 3
   },
   "file_extension": ".py",
   "mimetype": "text/x-python",
   "name": "python",
   "nbconvert_exporter": "python",
   "pygments_lexer": "ipython3",
   "version": "3.7.5"
  }
 },
 "nbformat": 4,
 "nbformat_minor": 4
}
