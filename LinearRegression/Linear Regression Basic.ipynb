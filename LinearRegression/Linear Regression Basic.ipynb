{
 "cells": [
  {
   "cell_type": "code",
   "execution_count": 23,
   "metadata": {},
   "outputs": [],
   "source": [
    "import pandas as pd\n",
    "import numpy as np\n",
    "import matplotlib.pyplot as plt\n",
    "from sklearn.linear_model import LinearRegression\n",
    "from sklearn.metrics import mean_squared_error"
   ]
  },
  {
   "cell_type": "code",
   "execution_count": 24,
   "metadata": {},
   "outputs": [],
   "source": [
    "data = pd.read_csv('train.csv')"
   ]
  },
  {
   "cell_type": "code",
   "execution_count": 25,
   "metadata": {},
   "outputs": [],
   "source": [
    "x = np.array(data['x']).reshape(-1,1)\n",
    "y = np.array(data['y']).reshape(-1,1)\n",
    "x = np.nan_to_num(x)\n",
    "y = np.nan_to_num(y)"
   ]
  },
  {
   "cell_type": "code",
   "execution_count": 26,
   "metadata": {},
   "outputs": [
    {
     "data": {
      "text/plain": [
       "LinearRegression(copy_X=True, fit_intercept=True, n_jobs=None, normalize=True)"
      ]
     },
     "execution_count": 26,
     "metadata": {},
     "output_type": "execute_result"
    }
   ],
   "source": [
    "model = LinearRegression(normalize=True)\n",
    "model.fit(x,y)"
   ]
  },
  {
   "cell_type": "code",
   "execution_count": 27,
   "metadata": {},
   "outputs": [],
   "source": [
    "test = pd.read_csv('test.csv')"
   ]
  },
  {
   "cell_type": "code",
   "execution_count": 28,
   "metadata": {},
   "outputs": [],
   "source": [
    "x_test = np.array(test['x']).reshape(-1,1)"
   ]
  },
  {
   "cell_type": "code",
   "execution_count": 29,
   "metadata": {},
   "outputs": [
    {
     "data": {
      "text/plain": [
       "array([[50.58387576],\n",
       "       [48.76414977],\n",
       "       [48.79664488],\n",
       "       [48.73165467],\n",
       "       [49.25157638],\n",
       "       [48.56917913],\n",
       "       [50.09644916],\n",
       "       [51.16878769],\n",
       "       [48.73165467],\n",
       "       [48.24422806],\n",
       "       [48.21173296],\n",
       "       [48.69915956],\n",
       "       [51.2012828 ],\n",
       "       [50.09644916],\n",
       "       [49.25157638],\n",
       "       [48.56917913],\n",
       "       [50.19393448],\n",
       "       [48.53668403],\n",
       "       [50.90882683],\n",
       "       [50.32391491],\n",
       "       [50.97381705],\n",
       "       [49.73900298],\n",
       "       [50.97381705],\n",
       "       [48.95912042],\n",
       "       [51.2337779 ],\n",
       "       [49.96646873],\n",
       "       [50.64886598],\n",
       "       [48.76414977],\n",
       "       [51.10379748],\n",
       "       [48.95912042],\n",
       "       [51.29876812],\n",
       "       [49.08910084],\n",
       "       [49.15409106],\n",
       "       [50.68136108],\n",
       "       [48.99161552],\n",
       "       [49.60902256],\n",
       "       [49.8039932 ],\n",
       "       [50.32391491],\n",
       "       [48.99161552],\n",
       "       [49.15409106],\n",
       "       [51.03880726],\n",
       "       [50.38890512],\n",
       "       [49.70650788],\n",
       "       [50.55138066],\n",
       "       [48.21173296],\n",
       "       [49.28407149],\n",
       "       [50.35641002],\n",
       "       [50.2914198 ],\n",
       "       [49.38155681],\n",
       "       [49.21908127],\n",
       "       [51.13629258],\n",
       "       [50.94132194],\n",
       "       [49.77149809],\n",
       "       [49.08910084],\n",
       "       [49.99896384],\n",
       "       [48.08175253],\n",
       "       [49.3490617 ],\n",
       "       [50.16143937],\n",
       "       [50.32391491],\n",
       "       [49.93397362],\n",
       "       [48.50418892],\n",
       "       [50.42140023],\n",
       "       [50.55138066],\n",
       "       [50.06395405],\n",
       "       [50.7463513 ],\n",
       "       [48.66666445],\n",
       "       [49.41405191],\n",
       "       [49.70650788],\n",
       "       [49.86898341],\n",
       "       [48.50418892],\n",
       "       [49.57652745],\n",
       "       [48.50418892],\n",
       "       [50.64886598],\n",
       "       [49.8039932 ],\n",
       "       [48.56917913],\n",
       "       [48.99161552],\n",
       "       [50.71385619],\n",
       "       [50.32391491],\n",
       "       [49.77149809],\n",
       "       [50.81134151],\n",
       "       [50.2914198 ],\n",
       "       [48.95912042],\n",
       "       [49.90147852],\n",
       "       [49.64151766],\n",
       "       [49.38155681],\n",
       "       [49.3490617 ],\n",
       "       [50.7463513 ],\n",
       "       [51.33126322],\n",
       "       [49.99896384],\n",
       "       [49.47904213],\n",
       "       [50.25892469],\n",
       "       [49.31656659],\n",
       "       [50.12894427],\n",
       "       [51.03880726],\n",
       "       [50.03145895],\n",
       "       [48.53668403],\n",
       "       [48.76414977],\n",
       "       [50.90882683],\n",
       "       [50.45389534],\n",
       "       [49.12159595],\n",
       "       [48.14674274],\n",
       "       [50.7463513 ],\n",
       "       [48.69915956],\n",
       "       [50.48639044],\n",
       "       [49.44654702],\n",
       "       [48.47169381],\n",
       "       [48.11424764],\n",
       "       [51.00631215],\n",
       "       [50.97381705],\n",
       "       [48.08175253],\n",
       "       [49.41405191],\n",
       "       [48.60167424],\n",
       "       [51.13629258],\n",
       "       [51.2337779 ],\n",
       "       [50.22642959],\n",
       "       [48.8616351 ],\n",
       "       [48.63416935],\n",
       "       [51.00631215],\n",
       "       [48.50418892],\n",
       "       [48.08175253],\n",
       "       [50.16143937],\n",
       "       [51.2012828 ],\n",
       "       [51.26627301],\n",
       "       [48.47169381],\n",
       "       [49.41405191],\n",
       "       [49.60902256],\n",
       "       [50.61637087],\n",
       "       [48.73165467],\n",
       "       [50.97381705],\n",
       "       [49.02411063],\n",
       "       [50.16143937],\n",
       "       [50.51888555],\n",
       "       [48.47169381],\n",
       "       [48.8941302 ],\n",
       "       [48.99161552],\n",
       "       [49.05660574],\n",
       "       [50.19393448],\n",
       "       [49.99896384],\n",
       "       [50.16143937],\n",
       "       [49.8039932 ],\n",
       "       [50.38890512],\n",
       "       [51.2337779 ],\n",
       "       [50.45389534],\n",
       "       [48.37420849],\n",
       "       [48.47169381],\n",
       "       [50.12894427],\n",
       "       [51.29876812],\n",
       "       [50.03145895],\n",
       "       [49.21908127],\n",
       "       [48.14674274],\n",
       "       [50.03145895],\n",
       "       [49.12159595],\n",
       "       [51.13629258],\n",
       "       [50.81134151],\n",
       "       [50.12894427],\n",
       "       [48.79664488],\n",
       "       [50.71385619],\n",
       "       [51.10379748],\n",
       "       [49.15409106],\n",
       "       [48.30921828],\n",
       "       [49.44654702],\n",
       "       [49.57652745],\n",
       "       [49.8364883 ],\n",
       "       [48.60167424],\n",
       "       [49.67401277],\n",
       "       [49.47904213],\n",
       "       [51.16878769],\n",
       "       [50.22642959],\n",
       "       [48.76414977],\n",
       "       [49.21908127],\n",
       "       [50.68136108],\n",
       "       [49.28407149],\n",
       "       [49.8364883 ],\n",
       "       [49.90147852],\n",
       "       [48.11424764],\n",
       "       [49.12159595],\n",
       "       [49.96646873],\n",
       "       [49.12159595],\n",
       "       [49.57652745],\n",
       "       [50.42140023],\n",
       "       [48.63416935],\n",
       "       [51.2337779 ],\n",
       "       [51.10379748],\n",
       "       [51.03880726],\n",
       "       [49.28407149],\n",
       "       [48.21173296],\n",
       "       [49.8364883 ],\n",
       "       [49.73900298],\n",
       "       [48.95912042],\n",
       "       [49.57652745],\n",
       "       [51.07130237],\n",
       "       [50.45389534],\n",
       "       [50.58387576],\n",
       "       [51.03880726],\n",
       "       [50.06395405],\n",
       "       [51.29876812],\n",
       "       [48.21173296],\n",
       "       [50.42140023],\n",
       "       [48.69915956],\n",
       "       [49.93397362],\n",
       "       [50.61637087],\n",
       "       [48.92662531],\n",
       "       [50.48639044],\n",
       "       [51.00631215],\n",
       "       [50.22642959],\n",
       "       [48.50418892],\n",
       "       [49.38155681],\n",
       "       [50.58387576],\n",
       "       [50.25892469],\n",
       "       [50.51888555],\n",
       "       [48.82913999],\n",
       "       [49.54403234],\n",
       "       [49.99896384],\n",
       "       [49.51153723],\n",
       "       [48.82913999],\n",
       "       [49.86898341],\n",
       "       [49.86898341],\n",
       "       [51.16878769],\n",
       "       [48.47169381],\n",
       "       [48.21173296],\n",
       "       [48.30921828],\n",
       "       [51.33126322],\n",
       "       [49.64151766],\n",
       "       [49.44654702],\n",
       "       [51.2012828 ],\n",
       "       [49.3490617 ],\n",
       "       [51.33126322],\n",
       "       [50.90882683],\n",
       "       [48.53668403],\n",
       "       [48.53668403],\n",
       "       [49.28407149],\n",
       "       [48.24422806],\n",
       "       [50.94132194],\n",
       "       [51.03880726],\n",
       "       [50.19393448],\n",
       "       [50.48639044],\n",
       "       [49.90147852],\n",
       "       [48.60167424],\n",
       "       [48.24422806],\n",
       "       [48.99161552],\n",
       "       [51.07130237],\n",
       "       [49.57652745],\n",
       "       [49.8364883 ],\n",
       "       [49.3490617 ],\n",
       "       [49.51153723],\n",
       "       [49.08910084],\n",
       "       [50.2914198 ],\n",
       "       [50.87633173],\n",
       "       [51.00631215],\n",
       "       [49.31656659],\n",
       "       [48.76414977],\n",
       "       [51.16878769],\n",
       "       [49.90147852],\n",
       "       [50.03145895],\n",
       "       [50.19393448],\n",
       "       [50.61637087],\n",
       "       [50.97381705],\n",
       "       [48.27672317],\n",
       "       [50.25892469],\n",
       "       [49.25157638],\n",
       "       [48.60167424],\n",
       "       [51.33126322],\n",
       "       [49.54403234],\n",
       "       [50.45389534],\n",
       "       [49.93397362],\n",
       "       [48.73165467],\n",
       "       [50.55138066],\n",
       "       [49.18658616],\n",
       "       [49.86898341],\n",
       "       [50.42140023],\n",
       "       [49.86898341],\n",
       "       [48.34171338],\n",
       "       [49.90147852],\n",
       "       [50.42140023],\n",
       "       [49.96646873],\n",
       "       [48.27672317],\n",
       "       [51.2012828 ],\n",
       "       [48.82913999],\n",
       "       [49.96646873],\n",
       "       [48.82913999],\n",
       "       [48.69915956],\n",
       "       [48.8941302 ],\n",
       "       [50.16143937],\n",
       "       [48.76414977],\n",
       "       [49.99896384],\n",
       "       [48.69915956],\n",
       "       [48.60167424],\n",
       "       [49.44654702],\n",
       "       [49.47904213],\n",
       "       [50.06395405],\n",
       "       [51.07130237],\n",
       "       [48.4391987 ],\n",
       "       [49.41405191],\n",
       "       [48.11424764],\n",
       "       [48.34171338],\n",
       "       [50.38890512],\n",
       "       [49.57652745],\n",
       "       [49.86898341],\n",
       "       [50.09644916],\n",
       "       [49.60902256]])"
      ]
     },
     "execution_count": 29,
     "metadata": {},
     "output_type": "execute_result"
    }
   ],
   "source": [
    "model.predict(x_test)"
   ]
  },
  {
   "cell_type": "code",
   "execution_count": 30,
   "metadata": {},
   "outputs": [
    {
     "data": {
      "text/plain": [
       "Text(0, 0.5, 'Y')"
      ]
     },
     "execution_count": 30,
     "metadata": {},
     "output_type": "execute_result"
    },
    {
     "data": {
      "image/png": "[encoded data removed]",
      "text/plain": [
       "<Figure size 432x288 with 1 Axes>"
      ]
     },
     "metadata": {
      "needs_background": "light"
     },
     "output_type": "display_data"
    }
   ],
   "source": [
    "plt.scatter(x,y,color=\"green\")\n",
    "plt.plot(x, model.predict(x), color=\"red\")\n",
    "plt.title(\"Abstraksi Regresi Linear\")\n",
    "plt.xlabel(\"X\")\n",
    "plt.ylabel(\"Y\")"
   ]
  },
  {
   "cell_type": "code",
   "execution_count": 32,
   "metadata": {},
   "outputs": [
    {
     "data": {
      "text/plain": [
       "17810.735336353187"
      ]
     },
     "execution_count": 32,
     "metadata": {},
     "output_type": "execute_result"
    }
   ],
   "source": [
    "mean_squared_error(x,y)"
   ]
  },
  {
   "cell_type": "code",
   "execution_count": 34,
   "metadata": {},
   "outputs": [
    {
     "data": {
      "text/plain": [
       "0.02254182034862262"
      ]
     },
     "execution_count": 34,
     "metadata": {},
     "output_type": "execute_result"
    }
   ],
   "source": [
    "model.score(x,y)"
   ]
  },
  {
   "cell_type": "code",
   "execution_count": null,
   "metadata": {},
   "outputs": [],
   "source": []
  }
 ],
 "metadata": {
  "kernelspec": {
   "display_name": "Python 3",
   "language": "python",
   "name": "python3"
  },
  "language_info": {
   "codemirror_mode": {
    "name": "ipython",
    "version": 3
   },
   "file_extension": ".py",
   "mimetype": "text/x-python",
   "name": "python",
   "nbconvert_exporter": "python",
   "pygments_lexer": "ipython3",
   "version": "3.7.5"
  }
 },
 "nbformat": 4,
 "nbformat_minor": 4
}
